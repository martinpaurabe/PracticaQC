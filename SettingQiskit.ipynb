{
 "cells": [
  {
   "cell_type": "code",
   "execution_count": 1,
   "metadata": {},
   "outputs": [],
   "source": [
    "import qiskit"
   ]
  },
  {
   "cell_type": "code",
   "execution_count": 2,
   "metadata": {},
   "outputs": [],
   "source": [
    "from qiskit_ibm_runtime import QiskitRuntimeService\n",
    "service = QiskitRuntimeService(channel= \"ibm_quantum\", # ibm_cloud\n",
    "                            token = \"6d4dca1dba2f146e95d1f27f0d3d855f5cf9151a691e8569439cbebe3b8e972e34ea6b097446d0fe0e13a2ecf7a2df898f478dd017a9bbdfb7a39ba4d0032900\")"
   ]
  },
  {
   "cell_type": "code",
   "execution_count": null,
   "metadata": {},
   "outputs": [],
   "source": [
    "QiskitRuntimeService.save_account(channel= \"ibm_quantum\", # ibm_cloud\n",
    "                            token = \"6d4dca1dba2f146e95d1f27f0d3d855f5cf9151a691e8569439cbebe3b8e972e34ea6b097446d0fe0e13a2ecf7a2df898f478dd017a9bbdfb7a39ba4d0032900\")"
   ]
  },
  {
   "cell_type": "code",
   "execution_count": 3,
   "metadata": {},
   "outputs": [],
   "source": [
    "backend = service.backend(name = \"ibm_kyoto\" )"
   ]
  },
  {
   "cell_type": "code",
   "execution_count": null,
   "metadata": {},
   "outputs": [],
   "source": []
  }
 ],
 "metadata": {
  "kernelspec": {
   "display_name": "firstexample",
   "language": "python",
   "name": "python3"
  },
  "language_info": {
   "codemirror_mode": {
    "name": "ipython",
    "version": 3
   },
   "file_extension": ".py",
   "mimetype": "text/x-python",
   "name": "python",
   "nbconvert_exporter": "python",
   "pygments_lexer": "ipython3",
   "version": "3.11.5"
  }
 },
 "nbformat": 4,
 "nbformat_minor": 2
}
