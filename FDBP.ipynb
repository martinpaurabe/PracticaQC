{
 "cells": [
  {
   "cell_type": "code",
   "execution_count": 23,
   "metadata": {},
   "outputs": [
    {
     "ename": "TypeError",
     "evalue": "function_dist() takes 2 positional arguments but 3 were given",
     "output_type": "error",
     "traceback": [
      "\u001b[1;31m---------------------------------------------------------------------------\u001b[0m",
      "\u001b[1;31mTypeError\u001b[0m                                 Traceback (most recent call last)",
      "Cell \u001b[1;32mIn[23], line 35\u001b[0m\n\u001b[0;32m     33\u001b[0m x \u001b[38;5;241m=\u001b[39m Rn\n\u001b[0;32m     34\u001b[0m n \u001b[38;5;241m=\u001b[39m \u001b[38;5;241m8\u001b[39m\n\u001b[1;32m---> 35\u001b[0m S \u001b[38;5;241m=\u001b[39m \u001b[43mfunction_dist\u001b[49m\u001b[43m(\u001b[49m\u001b[43mn\u001b[49m\u001b[43m,\u001b[49m\u001b[43mx\u001b[49m\u001b[43m,\u001b[49m\u001b[43mRn\u001b[49m\u001b[43m)\u001b[49m\n\u001b[0;32m     36\u001b[0m qc \u001b[38;5;241m=\u001b[39m Calc_Fn_4(n,S)\n\u001b[0;32m     37\u001b[0m qc\u001b[38;5;241m.\u001b[39mdraw(\u001b[38;5;124m'\u001b[39m\u001b[38;5;124mmpl\u001b[39m\u001b[38;5;124m'\u001b[39m)\n",
      "\u001b[1;31mTypeError\u001b[0m: function_dist() takes 2 positional arguments but 3 were given"
     ]
    }
   ],
   "source": [
    "from qiskit import QuantumRegister, ClassicalRegister, QuantumCircuit\n",
    "from qiskit.visualization import plot_bloch_multivector\n",
    "from qiskit.quantum_info import Statevector\n",
    "import numpy as np\n",
    "from numpy import pi\n",
    "from math   import sin\n",
    "\n",
    "def function_dist(n,x):\n",
    "    qc = QuantumCircuit(n)\n",
    "    S = np.zeros(n)\n",
    "    for i in range (n):\n",
    "        S[i] = sin(x*2**i)\n",
    "    return S\n",
    "        \n",
    "\n",
    "def Calc_Fn(n,S,Rn):\n",
    "    qc = QuantumCircuit(n*2)\n",
    "    Fn = function_dist(n,Rn)\n",
    "    for i in range (n):\n",
    "        qc.h(2*i)\n",
    "        qc.rz(S[i],2*i)\n",
    "        qc.rz(-Fn[i],2*i)\n",
    "        qc.ry(-3.14159/2,2*i)\n",
    "        qc.h(2*i+1)\n",
    "        qc.rz(S[i],2*i+1)\n",
    "        qc.rz(-Fn[i],2*i+1)\n",
    "        qc.rx(-3.14159/2, 2*i+1)\n",
    "    return qc\n",
    "\n",
    "\n",
    "\n",
    "Rn = 2*pi\n",
    "x = Rn\n",
    "n = 8\n",
    "S = function_dist(n,x)\n",
    "qc = Calc_Fn(n,S,Rn)\n",
    "qc.draw('mpl')\n",
    "\n",
    "#if n <= 4:\n",
    "# Obtener el estado inicial del qubit\n",
    "#state = Statevector.from_instruction(qc)\n",
    "# Graficar la esfera de Bloch\n",
    "#plot_bloch_multivector(state)\n",
    "\n"
   ]
  },
  {
   "cell_type": "code",
   "execution_count": null,
   "metadata": {},
   "outputs": [
    {
     "name": "stdout",
     "output_type": "stream",
     "text": [
      "['ZIIIIIIIIIIIIIII', 'IZIIIIIIIIIIIIII', 'IIZIIIIIIIIIIIII', 'IIIZIIIIIIIIIIII', 'IIIIZIIIIIIIIIII', 'IIIIIZIIIIIIIIII', 'IIIIIIZIIIIIIIII', 'IIIIIIIZIIIIIIII', 'IIIIIIIIZIIIIIII', 'IIIIIIIIIZIIIIII', 'IIIIIIIIIIZIIIII', 'IIIIIIIIIIIZIIII', 'IIIIIIIIIIIIZIII', 'IIIIIIIIIIIIIZII', 'IIIIIIIIIIIIIIZI']\n",
      "15\n"
     ]
    }
   ],
   "source": [
    "from qiskit.quantum_info import Pauli, SparsePauliOp\n",
    "from itertools import product\n",
    "\n",
    "n = n*2\n",
    "#combinations = list(product('IZ', repeat=n))\n",
    "#operator_strings = [Pauli(''.join(comb)) for comb in combinations] #['Z' * i + 'Z' + 'I' *(n-1-i) for i in range(n-1)]\n",
    "operator_strings = ['I' * i + 'Z' + 'I' *(n-1-i) for i in range(n-1)]\n",
    "print(operator_strings)\n",
    "print(len(operator_strings))\n",
    "\n",
    "operators = [SparsePauliOp(operator_strings) for operator_strings in operator_strings]\n",
    "#print(operators)"
   ]
  },
  {
   "cell_type": "code",
   "execution_count": null,
   "metadata": {},
   "outputs": [
    {
     "name": "stderr",
     "output_type": "stream",
     "text": [
      "C:\\Users\\mpaur\\AppData\\Local\\Temp\\ipykernel_12696\\4116969614.py:5: DeprecationWarning: The get_backend() method is deprecated as of qiskit-ibm-runtime 0.24 and will be removed no sooner than 3 months after the release date. Please use backend() instead.\n",
      "  backend = QiskitRuntimeService().get_backend(backend_name)\n"
     ]
    }
   ],
   "source": [
    "from qiskit_ibm_runtime import QiskitRuntimeService\n",
    "from qiskit.transpiler.preset_passmanagers import generate_preset_pass_manager\n",
    "\n",
    "backend_name = \"ibm_kyoto\"\n",
    "backend = QiskitRuntimeService().get_backend(backend_name)\n",
    "pass_manager = generate_preset_pass_manager(optimization_level=1, backend=backend)\n",
    "\n",
    "qc_transpiled = pass_manager.run(qc)\n",
    "\n",
    "operators_transpiled_list = [op.apply_layout(qc_transpiled.layout) for op in operators]\n"
   ]
  },
  {
   "cell_type": "code",
   "execution_count": null,
   "metadata": {},
   "outputs": [
    {
     "name": "stdout",
     "output_type": "stream",
     "text": [
      "cv9ky60sgfsg008edpxg\n"
     ]
    }
   ],
   "source": [
    "from qiskit_ibm_runtime import Estimator as Estimator\n",
    "from qiskit_ibm_runtime import EstimatorOptions\n",
    "\n",
    "options = EstimatorOptions()\n",
    "options.resilience_level = 1\n",
    "options.optimization_level = 0\n",
    "options.dynamical_decoupling.enable = True\n",
    "options.dynamical_decoupling.sequence_type = \"XY4\"\n",
    "\n",
    "estimator = Estimator(backend, options=options)\n",
    "\n",
    "job = estimator.run([(qc_transpiled , operators_transpiled_list)])\n",
    "\n",
    "job_id = job.job_id()\n",
    "\n",
    "print(job_id)\n"
   ]
  },
  {
   "cell_type": "code",
   "execution_count": null,
   "metadata": {},
   "outputs": [
    {
     "name": "stderr",
     "output_type": "stream",
     "text": [
      "No artists with labels found to put in legend.  Note that artists whose label start with an underscore are ignored when legend() is called with no argument.\n"
     ]
    },
    {
     "name": "stdout",
     "output_type": "stream",
     "text": [
      "{'shots': 4096, 'target_precision': 0.015625, 'circuit_metadata': {}, 'resilience': {}, 'num_randomizations': 32}\n"
     ]
    },
    {
     "data": {
      "image/png": "[encoded data removed]",
      "text/plain": [
       "<Figure size 640x480 with 1 Axes>"
      ]
     },
     "metadata": {},
     "output_type": "display_data"
    }
   ],
   "source": [
    "import matplotlib.pyplot as plt\n",
    "\n",
    "\n",
    "data = list(range(0, len(operators)))\n",
    "result = job.result()[0]\n",
    "values = result.data.evs\n",
    "values = [v for v in values]\n",
    "\n",
    "print(result.metadata)\n",
    "\n",
    "plt.scatter(data, values, marker ='o')\n",
    "plt.xlabel('Qubit $i$')\n",
    "plt.ylabel(r'Frecuency Qubit $i$')\n",
    "plt.legend()\n",
    "plt.show()\n",
    "\n"
   ]
  }
 ],
 "metadata": {
  "kernelspec": {
   "display_name": "Python 3",
   "language": "python",
   "name": "python3"
  },
  "language_info": {
   "codemirror_mode": {
    "name": "ipython",
    "version": 3
   },
   "file_extension": ".py",
   "mimetype": "text/x-python",
   "name": "python",
   "nbconvert_exporter": "python",
   "pygments_lexer": "ipython3",
   "version": "3.11.5"
  }
 },
 "nbformat": 4,
 "nbformat_minor": 2
}
